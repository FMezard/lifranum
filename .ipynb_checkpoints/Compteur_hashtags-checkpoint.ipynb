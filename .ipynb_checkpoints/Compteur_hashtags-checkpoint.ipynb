{
 "cells": [
  {
   "cell_type": "markdown",
   "metadata": {},
   "source": [
    "# Récupération des mots-clés propres à la littérature nativement numérique"
   ]
  },
  {
   "cell_type": "code",
   "execution_count": 31,
   "metadata": {},
   "outputs": [],
   "source": [
    "# Settings \n",
    "# TO DO : avoir des variables d'environnement pour les clés \n",
    "import twitter\n",
    "import json\n",
    "from collections import Counter\n",
    "from lifranumTwitter import api\n",
    "from lifranumTwitter import get_hashtags_used_with\n",
    "from lifranumTwitter import create_mindmap\n",
    "from lifranumTwitter import add_branch"
   ]
  },
  {
   "cell_type": "code",
   "execution_count": 32,
   "metadata": {},
   "outputs": [],
   "source": [
    "# On choisit ici le hashtag de départ\n",
    "root = \"twittérature\"\n",
    "hashtags_tree = dict()\n",
    "hashtags_tree[root] = dict()\n",
    "count_hashtags = 0\n"
   ]
  },
  {
   "cell_type": "code",
   "execution_count": 33,
   "metadata": {},
   "outputs": [
    {
     "name": "stdout",
     "output_type": "stream",
     "text": [
      "['haïku', 'poésie', 'littérature', 'MicroPoésie', 'twittérature', 'Micropoésie']\n"
     ]
    }
   ],
   "source": [
    "hashtags = get_hashtags_used_with(root_hashtag)\n",
    "print(hashtags)"
   ]
  },
  {
   "cell_type": "code",
   "execution_count": 34,
   "metadata": {},
   "outputs": [
    {
     "name": "stdout",
     "output_type": "stream",
     "text": [
      "['haïku', 'poésie', 'littérature', 'MicroPoésie', 'twittérature', 'Micropoésie']\n"
     ]
    }
   ],
   "source": []
  },
  {
   "cell_type": "code",
   "execution_count": 35,
   "metadata": {},
   "outputs": [],
   "source": [
    "# Changer la valeur de new_hashtags en modifiant la liste ci-dessus. Cela permet d'éviter les hashtags trop\n",
    "# généraux qui ne font pas remonter de la production littéraire\n",
    "validate_new_hashtags = hashtags"
   ]
  },
  {
   "cell_type": "code",
   "execution_count": 36,
   "metadata": {},
   "outputs": [],
   "source": [
    "for hashtag in validate_new_hashtags :\n",
    "    hashtags_tree[root][hashtag] =  get_hashtags_used_with(hashtag)\n",
    "    count_hashtags += len(hashtags_tree[root][hashtag])\n",
    "mindmap = create_mindmap(hashtags_tree, root, count_hashtags)\n",
    "with open(\"twittérature.json\", \"w\", encoding=\"utf-8\") as json_output:\n",
    "    json.dump(mindmap, json_output)\n"
   ]
  },
  {
   "cell_type": "code",
   "execution_count": null,
   "metadata": {},
   "outputs": [],
   "source": []
  }
 ],
 "metadata": {
  "kernelspec": {
   "display_name": "Python 3",
   "language": "python",
   "name": "python3"
  },
  "language_info": {
   "codemirror_mode": {
    "name": "ipython",
    "version": 3
   },
   "file_extension": ".py",
   "mimetype": "text/x-python",
   "name": "python",
   "nbconvert_exporter": "python",
   "pygments_lexer": "ipython3",
   "version": "3.8.5"
  }
 },
 "nbformat": 4,
 "nbformat_minor": 4
}
